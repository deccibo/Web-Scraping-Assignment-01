{
 "cells": [
  {
   "cell_type": "code",
   "execution_count": 1,
   "id": "f92fb103",
   "metadata": {},
   "outputs": [],
   "source": [
    "import requests\n",
    "import pandas as pd\n",
    "from bs4 import BeautifulSoup"
   ]
  },
  {
   "cell_type": "code",
   "execution_count": 33,
   "id": "321f28e7",
   "metadata": {},
   "outputs": [
    {
     "name": "stdout",
     "output_type": "stream",
     "text": [
      "<Response [200]>\n"
     ]
    }
   ],
   "source": [
    "url = \"https://webpages.charlotte.edu/mscipion/\"\n",
    "url2 = \"https://ticker.finology.in/\"\n",
    "r = requests.get(url)\n",
    "print(r)"
   ]
  },
  {
   "cell_type": "code",
   "execution_count": 34,
   "id": "af198d5e",
   "metadata": {},
   "outputs": [],
   "source": [
    "soup = BeautifulSoup(r.text, \"lxml\")"
   ]
  },
  {
   "cell_type": "code",
   "execution_count": 37,
   "id": "d3211061",
   "metadata": {},
   "outputs": [
    {
     "name": "stdout",
     "output_type": "stream",
     "text": [
      "[<th>Student</th>, <th>Favourite Computer Language</th>, <th>Years of Experience</th>]\n"
     ]
    }
   ],
   "source": [
    "table = soup.find(\"table\")\n",
    "headers = table.find_all(\"th\")\n",
    "print(headers)"
   ]
  },
  {
   "cell_type": "code",
   "execution_count": 38,
   "id": "0c0ef4c2",
   "metadata": {},
   "outputs": [
    {
     "name": "stdout",
     "output_type": "stream",
     "text": [
      "['Student', 'Favourite Computer Language', 'Years of Experience']\n"
     ]
    }
   ],
   "source": [
    "titles = []\n",
    "for i in headers:\n",
    "    title = i.text\n",
    "    titles.append(title)\n",
    "print(titles)"
   ]
  },
  {
   "cell_type": "code",
   "execution_count": 39,
   "id": "5074dc9b",
   "metadata": {},
   "outputs": [
    {
     "name": "stdout",
     "output_type": "stream",
     "text": [
      "Empty DataFrame\n",
      "Columns: [Student, Favourite Computer Language, Years of Experience]\n",
      "Index: []\n"
     ]
    }
   ],
   "source": [
    "df = pd.DataFrame(columns=titles)\n",
    "print(df)"
   ]
  },
  {
   "cell_type": "code",
   "execution_count": 42,
   "id": "db7c4457",
   "metadata": {},
   "outputs": [],
   "source": [
    "rows = table.find_all(\"tr\")\n",
    "##print(rows)"
   ]
  },
  {
   "cell_type": "code",
   "execution_count": 74,
   "id": "8e74e806",
   "metadata": {},
   "outputs": [
    {
     "name": "stdout",
     "output_type": "stream",
     "text": [
      "[<td>Fred</td>, <td>Kotlin</td>, <td>4</td>, <td>Paula</td>, <td>Python</td>, <td>2</td>, <td>Ernst</td>, <td>Java</td>, <td>7</td>, <td>Isabel</td>, <td>C++</td>, <td>3</td>, <td>Tony</td>, <td>Pearl</td>, <td>7</td>, <td>Maria</td>, <td>Cobol</td>, <td>15</td>]\n"
     ]
    }
   ],
   "source": [
    "for i in rows[1:2]:\n",
    "    data = table.find_all(\"td\")\n",
    "    print(data)"
   ]
  },
  {
   "cell_type": "code",
   "execution_count": 80,
   "id": "71ab0eb6",
   "metadata": {},
   "outputs": [
    {
     "data": {
      "text/html": [
       "<div>\n",
       "<style scoped>\n",
       "    .dataframe tbody tr th:only-of-type {\n",
       "        vertical-align: middle;\n",
       "    }\n",
       "\n",
       "    .dataframe tbody tr th {\n",
       "        vertical-align: top;\n",
       "    }\n",
       "\n",
       "    .dataframe thead th {\n",
       "        text-align: right;\n",
       "    }\n",
       "</style>\n",
       "<table border=\"1\" class=\"dataframe\">\n",
       "  <thead>\n",
       "    <tr style=\"text-align: right;\">\n",
       "      <th></th>\n",
       "      <th>Student</th>\n",
       "      <th>Favourite Computer Language</th>\n",
       "      <th>Years of Experience</th>\n",
       "    </tr>\n",
       "  </thead>\n",
       "  <tbody>\n",
       "    <tr>\n",
       "      <th>0</th>\n",
       "      <td>Fred</td>\n",
       "      <td>Kotlin</td>\n",
       "      <td>4</td>\n",
       "    </tr>\n",
       "    <tr>\n",
       "      <th>1</th>\n",
       "      <td>Maria</td>\n",
       "      <td>Cobol</td>\n",
       "      <td>15</td>\n",
       "    </tr>\n",
       "    <tr>\n",
       "      <th>2</th>\n",
       "      <td>Maria</td>\n",
       "      <td>Cobol</td>\n",
       "      <td>15</td>\n",
       "    </tr>\n",
       "    <tr>\n",
       "      <th>3</th>\n",
       "      <td>Isabel</td>\n",
       "      <td>C++</td>\n",
       "      <td>3</td>\n",
       "    </tr>\n",
       "    <tr>\n",
       "      <th>4</th>\n",
       "      <td>Tony</td>\n",
       "      <td>Pearl</td>\n",
       "      <td>7</td>\n",
       "    </tr>\n",
       "    <tr>\n",
       "      <th>5</th>\n",
       "      <td>Maria</td>\n",
       "      <td>Cobol</td>\n",
       "      <td>15</td>\n",
       "    </tr>\n",
       "  </tbody>\n",
       "</table>\n",
       "</div>"
      ],
      "text/plain": [
       "  Student Favourite Computer Language Years of Experience\n",
       "0    Fred                      Kotlin                   4\n",
       "1   Maria                       Cobol                  15\n",
       "2   Maria                       Cobol                  15\n",
       "3  Isabel                         C++                   3\n",
       "4    Tony                       Pearl                   7\n",
       "5   Maria                       Cobol                  15"
      ]
     },
     "execution_count": 80,
     "metadata": {},
     "output_type": "execute_result"
    }
   ],
   "source": [
    "for i in rows[1:]:\n",
    "    data = i.find_all(\"td\")\n",
    "    row = [tr.text for tr in data]\n",
    "    l =len(df)\n",
    "    df.loc[1]= row  \n",
    "    \n",
    "df.head(6)"
   ]
  }
 ],
 "metadata": {
  "kernelspec": {
   "display_name": "Python 3 (ipykernel)",
   "language": "python",
   "name": "python3"
  },
  "language_info": {
   "codemirror_mode": {
    "name": "ipython",
    "version": 3
   },
   "file_extension": ".py",
   "mimetype": "text/x-python",
   "name": "python",
   "nbconvert_exporter": "python",
   "pygments_lexer": "ipython3",
   "version": "3.11.4"
  }
 },
 "nbformat": 4,
 "nbformat_minor": 5
}
